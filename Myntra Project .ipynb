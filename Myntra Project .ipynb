{
 "cells": [
  {
   "cell_type": "code",
   "execution_count": 61,
   "id": "0462a55e",
   "metadata": {},
   "outputs": [],
   "source": [
    "import pandas as pd \n",
    "import numpy as np\n",
    "import seaborn as sns\n",
    "import matplotlib.pyplot as plt"
   ]
  },
  {
   "cell_type": "code",
   "execution_count": 4,
   "id": "2ee05ebc",
   "metadata": {},
   "outputs": [],
   "source": [
    "data_detail = pd.read_csv(\"product details (1).csv\")"
   ]
  },
  {
   "cell_type": "code",
   "execution_count": 5,
   "id": "5fc1c4d1",
   "metadata": {},
   "outputs": [],
   "source": [
    "data_catlog = pd.read_csv(\"products catalog (1).csv\")"
   ]
  },
  {
   "cell_type": "code",
   "execution_count": 6,
   "id": "02b35b11",
   "metadata": {},
   "outputs": [
    {
     "data": {
      "text/html": [
       "<div>\n",
       "<style scoped>\n",
       "    .dataframe tbody tr th:only-of-type {\n",
       "        vertical-align: middle;\n",
       "    }\n",
       "\n",
       "    .dataframe tbody tr th {\n",
       "        vertical-align: top;\n",
       "    }\n",
       "\n",
       "    .dataframe thead th {\n",
       "        text-align: right;\n",
       "    }\n",
       "</style>\n",
       "<table border=\"1\" class=\"dataframe\">\n",
       "  <thead>\n",
       "    <tr style=\"text-align: right;\">\n",
       "      <th></th>\n",
       "      <th>ProductID</th>\n",
       "      <th>ProductName</th>\n",
       "      <th>ProductBrand</th>\n",
       "    </tr>\n",
       "  </thead>\n",
       "  <tbody>\n",
       "    <tr>\n",
       "      <th>0</th>\n",
       "      <td>10017413</td>\n",
       "      <td>DKNY Unisex Black &amp; Grey Printed Medium Trolle...</td>\n",
       "      <td>DKNY</td>\n",
       "    </tr>\n",
       "    <tr>\n",
       "      <th>1</th>\n",
       "      <td>10016283</td>\n",
       "      <td>EthnoVogue Women Beige &amp; Grey Made to Measure ...</td>\n",
       "      <td>EthnoVogue</td>\n",
       "    </tr>\n",
       "    <tr>\n",
       "      <th>2</th>\n",
       "      <td>10009781</td>\n",
       "      <td>SPYKAR Women Pink Alexa Super Skinny Fit High-...</td>\n",
       "      <td>SPYKAR</td>\n",
       "    </tr>\n",
       "    <tr>\n",
       "      <th>3</th>\n",
       "      <td>10015921</td>\n",
       "      <td>Raymond Men Blue Self-Design Single-Breasted B...</td>\n",
       "      <td>Raymond</td>\n",
       "    </tr>\n",
       "    <tr>\n",
       "      <th>4</th>\n",
       "      <td>10017833</td>\n",
       "      <td>Parx Men Brown &amp; Off-White Slim Fit Printed Ca...</td>\n",
       "      <td>Parx</td>\n",
       "    </tr>\n",
       "  </tbody>\n",
       "</table>\n",
       "</div>"
      ],
      "text/plain": [
       "   ProductID                                        ProductName ProductBrand\n",
       "0   10017413  DKNY Unisex Black & Grey Printed Medium Trolle...         DKNY\n",
       "1   10016283  EthnoVogue Women Beige & Grey Made to Measure ...   EthnoVogue\n",
       "2   10009781  SPYKAR Women Pink Alexa Super Skinny Fit High-...       SPYKAR\n",
       "3   10015921  Raymond Men Blue Self-Design Single-Breasted B...      Raymond\n",
       "4   10017833  Parx Men Brown & Off-White Slim Fit Printed Ca...         Parx"
      ]
     },
     "execution_count": 6,
     "metadata": {},
     "output_type": "execute_result"
    }
   ],
   "source": [
    "data_detail.head()"
   ]
  },
  {
   "cell_type": "code",
   "execution_count": 7,
   "id": "e2b5f8a0",
   "metadata": {},
   "outputs": [
    {
     "data": {
      "text/plain": [
       "(12491, 3)"
      ]
     },
     "execution_count": 7,
     "metadata": {},
     "output_type": "execute_result"
    }
   ],
   "source": [
    "data_detail.shape"
   ]
  },
  {
   "cell_type": "code",
   "execution_count": 8,
   "id": "3d08faf8",
   "metadata": {},
   "outputs": [
    {
     "data": {
      "text/html": [
       "<div>\n",
       "<style scoped>\n",
       "    .dataframe tbody tr th:only-of-type {\n",
       "        vertical-align: middle;\n",
       "    }\n",
       "\n",
       "    .dataframe tbody tr th {\n",
       "        vertical-align: top;\n",
       "    }\n",
       "\n",
       "    .dataframe thead th {\n",
       "        text-align: right;\n",
       "    }\n",
       "</style>\n",
       "<table border=\"1\" class=\"dataframe\">\n",
       "  <thead>\n",
       "    <tr style=\"text-align: right;\">\n",
       "      <th></th>\n",
       "      <th>Gender</th>\n",
       "      <th>Price (INR)</th>\n",
       "      <th>NumImages</th>\n",
       "      <th>ID</th>\n",
       "      <th>Description</th>\n",
       "      <th>PrimaryColor</th>\n",
       "    </tr>\n",
       "  </thead>\n",
       "  <tbody>\n",
       "    <tr>\n",
       "      <th>0</th>\n",
       "      <td>Women</td>\n",
       "      <td>593</td>\n",
       "      <td>5</td>\n",
       "      <td>10182131</td>\n",
       "      <td>Off-White printed woven A-line  top, has a rou...</td>\n",
       "      <td>White</td>\n",
       "    </tr>\n",
       "    <tr>\n",
       "      <th>1</th>\n",
       "      <td>Men</td>\n",
       "      <td>6396</td>\n",
       "      <td>5</td>\n",
       "      <td>10052169</td>\n",
       "      <td>Display: AnalogueMovement: QuartzPower source:...</td>\n",
       "      <td>Black</td>\n",
       "    </tr>\n",
       "    <tr>\n",
       "      <th>2</th>\n",
       "      <td>Women</td>\n",
       "      <td>599</td>\n",
       "      <td>5</td>\n",
       "      <td>10168643</td>\n",
       "      <td>Blue printed knitted regular  top, has a high ...</td>\n",
       "      <td>Blue</td>\n",
       "    </tr>\n",
       "    <tr>\n",
       "      <th>3</th>\n",
       "      <td>Men</td>\n",
       "      <td>1034</td>\n",
       "      <td>5</td>\n",
       "      <td>10155427</td>\n",
       "      <td>Grey and Purple checked smart casual shirt, ha...</td>\n",
       "      <td>Grey</td>\n",
       "    </tr>\n",
       "    <tr>\n",
       "      <th>4</th>\n",
       "      <td>Men</td>\n",
       "      <td>477</td>\n",
       "      <td>3</td>\n",
       "      <td>10191059</td>\n",
       "      <td>Beige and Brown striped beltReversible: NoStre...</td>\n",
       "      <td>Brown</td>\n",
       "    </tr>\n",
       "  </tbody>\n",
       "</table>\n",
       "</div>"
      ],
      "text/plain": [
       "  Gender  Price (INR)  NumImages        ID  \\\n",
       "0  Women          593          5  10182131   \n",
       "1    Men         6396          5  10052169   \n",
       "2  Women          599          5  10168643   \n",
       "3    Men         1034          5  10155427   \n",
       "4    Men          477          3  10191059   \n",
       "\n",
       "                                         Description PrimaryColor  \n",
       "0  Off-White printed woven A-line  top, has a rou...        White  \n",
       "1  Display: AnalogueMovement: QuartzPower source:...        Black  \n",
       "2  Blue printed knitted regular  top, has a high ...         Blue  \n",
       "3  Grey and Purple checked smart casual shirt, ha...         Grey  \n",
       "4  Beige and Brown striped beltReversible: NoStre...        Brown  "
      ]
     },
     "execution_count": 8,
     "metadata": {},
     "output_type": "execute_result"
    }
   ],
   "source": [
    "data_catlog.head()"
   ]
  },
  {
   "cell_type": "code",
   "execution_count": 9,
   "id": "991b4a2e",
   "metadata": {},
   "outputs": [
    {
     "data": {
      "text/html": [
       "<div>\n",
       "<style scoped>\n",
       "    .dataframe tbody tr th:only-of-type {\n",
       "        vertical-align: middle;\n",
       "    }\n",
       "\n",
       "    .dataframe tbody tr th {\n",
       "        vertical-align: top;\n",
       "    }\n",
       "\n",
       "    .dataframe thead th {\n",
       "        text-align: right;\n",
       "    }\n",
       "</style>\n",
       "<table border=\"1\" class=\"dataframe\">\n",
       "  <thead>\n",
       "    <tr style=\"text-align: right;\">\n",
       "      <th></th>\n",
       "      <th>Gender</th>\n",
       "      <th>Price (INR)</th>\n",
       "      <th>NumImages</th>\n",
       "      <th>ID</th>\n",
       "      <th>Description</th>\n",
       "      <th>PrimaryColor</th>\n",
       "    </tr>\n",
       "  </thead>\n",
       "  <tbody>\n",
       "    <tr>\n",
       "      <th>count</th>\n",
       "      <td>12491</td>\n",
       "      <td>12491.000000</td>\n",
       "      <td>12491.000000</td>\n",
       "      <td>1.249100e+04</td>\n",
       "      <td>12491</td>\n",
       "      <td>11597</td>\n",
       "    </tr>\n",
       "    <tr>\n",
       "      <th>unique</th>\n",
       "      <td>6</td>\n",
       "      <td>NaN</td>\n",
       "      <td>NaN</td>\n",
       "      <td>NaN</td>\n",
       "      <td>10435</td>\n",
       "      <td>27</td>\n",
       "    </tr>\n",
       "    <tr>\n",
       "      <th>top</th>\n",
       "      <td>Women</td>\n",
       "      <td>NaN</td>\n",
       "      <td>NaN</td>\n",
       "      <td>NaN</td>\n",
       "      <td>Blue medium wash 5-pocket mid-rise jeans, clea...</td>\n",
       "      <td>Blue</td>\n",
       "    </tr>\n",
       "    <tr>\n",
       "      <th>freq</th>\n",
       "      <td>5126</td>\n",
       "      <td>NaN</td>\n",
       "      <td>NaN</td>\n",
       "      <td>NaN</td>\n",
       "      <td>54</td>\n",
       "      <td>3443</td>\n",
       "    </tr>\n",
       "    <tr>\n",
       "      <th>mean</th>\n",
       "      <td>NaN</td>\n",
       "      <td>1452.660956</td>\n",
       "      <td>4.913698</td>\n",
       "      <td>9.917160e+06</td>\n",
       "      <td>NaN</td>\n",
       "      <td>NaN</td>\n",
       "    </tr>\n",
       "    <tr>\n",
       "      <th>std</th>\n",
       "      <td>NaN</td>\n",
       "      <td>2118.503976</td>\n",
       "      <td>1.092333</td>\n",
       "      <td>1.438006e+06</td>\n",
       "      <td>NaN</td>\n",
       "      <td>NaN</td>\n",
       "    </tr>\n",
       "    <tr>\n",
       "      <th>min</th>\n",
       "      <td>NaN</td>\n",
       "      <td>90.000000</td>\n",
       "      <td>1.000000</td>\n",
       "      <td>1.012060e+05</td>\n",
       "      <td>NaN</td>\n",
       "      <td>NaN</td>\n",
       "    </tr>\n",
       "    <tr>\n",
       "      <th>25%</th>\n",
       "      <td>NaN</td>\n",
       "      <td>649.000000</td>\n",
       "      <td>5.000000</td>\n",
       "      <td>1.006215e+07</td>\n",
       "      <td>NaN</td>\n",
       "      <td>NaN</td>\n",
       "    </tr>\n",
       "    <tr>\n",
       "      <th>50%</th>\n",
       "      <td>NaN</td>\n",
       "      <td>920.000000</td>\n",
       "      <td>5.000000</td>\n",
       "      <td>1.015463e+07</td>\n",
       "      <td>NaN</td>\n",
       "      <td>NaN</td>\n",
       "    </tr>\n",
       "    <tr>\n",
       "      <th>75%</th>\n",
       "      <td>NaN</td>\n",
       "      <td>1499.000000</td>\n",
       "      <td>5.000000</td>\n",
       "      <td>1.021565e+07</td>\n",
       "      <td>NaN</td>\n",
       "      <td>NaN</td>\n",
       "    </tr>\n",
       "    <tr>\n",
       "      <th>max</th>\n",
       "      <td>NaN</td>\n",
       "      <td>63090.000000</td>\n",
       "      <td>10.000000</td>\n",
       "      <td>1.027514e+07</td>\n",
       "      <td>NaN</td>\n",
       "      <td>NaN</td>\n",
       "    </tr>\n",
       "  </tbody>\n",
       "</table>\n",
       "</div>"
      ],
      "text/plain": [
       "       Gender   Price (INR)     NumImages            ID  \\\n",
       "count   12491  12491.000000  12491.000000  1.249100e+04   \n",
       "unique      6           NaN           NaN           NaN   \n",
       "top     Women           NaN           NaN           NaN   \n",
       "freq     5126           NaN           NaN           NaN   \n",
       "mean      NaN   1452.660956      4.913698  9.917160e+06   \n",
       "std       NaN   2118.503976      1.092333  1.438006e+06   \n",
       "min       NaN     90.000000      1.000000  1.012060e+05   \n",
       "25%       NaN    649.000000      5.000000  1.006215e+07   \n",
       "50%       NaN    920.000000      5.000000  1.015463e+07   \n",
       "75%       NaN   1499.000000      5.000000  1.021565e+07   \n",
       "max       NaN  63090.000000     10.000000  1.027514e+07   \n",
       "\n",
       "                                              Description PrimaryColor  \n",
       "count                                               12491        11597  \n",
       "unique                                              10435           27  \n",
       "top     Blue medium wash 5-pocket mid-rise jeans, clea...         Blue  \n",
       "freq                                                   54         3443  \n",
       "mean                                                  NaN          NaN  \n",
       "std                                                   NaN          NaN  \n",
       "min                                                   NaN          NaN  \n",
       "25%                                                   NaN          NaN  \n",
       "50%                                                   NaN          NaN  \n",
       "75%                                                   NaN          NaN  \n",
       "max                                                   NaN          NaN  "
      ]
     },
     "execution_count": 9,
     "metadata": {},
     "output_type": "execute_result"
    }
   ],
   "source": [
    "data_catlog.describe(include = \"all\")"
   ]
  },
  {
   "cell_type": "code",
   "execution_count": 10,
   "id": "d69b0263",
   "metadata": {},
   "outputs": [
    {
     "data": {
      "text/plain": [
       "array(['Women', 'Men', 'Unisex', 'Boys', 'Girls', 'Unisex Kids'],\n",
       "      dtype=object)"
      ]
     },
     "execution_count": 10,
     "metadata": {},
     "output_type": "execute_result"
    }
   ],
   "source": [
    "data_catlog.Gender.unique()"
   ]
  },
  {
   "cell_type": "code",
   "execution_count": 11,
   "id": "4d9b5f2f",
   "metadata": {},
   "outputs": [
    {
     "data": {
      "text/plain": [
       "Women          5126\n",
       "Men            4591\n",
       "Unisex         1188\n",
       "Boys           1100\n",
       "Girls           440\n",
       "Unisex Kids      46\n",
       "Name: Gender, dtype: int64"
      ]
     },
     "execution_count": 11,
     "metadata": {},
     "output_type": "execute_result"
    }
   ],
   "source": [
    "data_catlog.Gender.value_counts()"
   ]
  },
  {
   "cell_type": "code",
   "execution_count": 12,
   "id": "a8ed3510",
   "metadata": {},
   "outputs": [],
   "source": [
    "x = []\n",
    "for i in data_catlog.Gender:\n",
    "    if i==\"Women\" or i == \"Girls\":\n",
    "        x.append(\"F\")\n",
    "    elif i==\"Men\" or i == \"Boys\":\n",
    "        x.append(\"M\")\n",
    "    else:\n",
    "        x.append(\"U\")\n",
    "        \n",
    "data_catlog[\"Gender_V1\"] = x          \n",
    "    \n",
    "    "
   ]
  },
  {
   "cell_type": "code",
   "execution_count": 13,
   "id": "b5bdaa60",
   "metadata": {},
   "outputs": [
    {
     "data": {
      "text/html": [
       "<div>\n",
       "<style scoped>\n",
       "    .dataframe tbody tr th:only-of-type {\n",
       "        vertical-align: middle;\n",
       "    }\n",
       "\n",
       "    .dataframe tbody tr th {\n",
       "        vertical-align: top;\n",
       "    }\n",
       "\n",
       "    .dataframe thead th {\n",
       "        text-align: right;\n",
       "    }\n",
       "</style>\n",
       "<table border=\"1\" class=\"dataframe\">\n",
       "  <thead>\n",
       "    <tr style=\"text-align: right;\">\n",
       "      <th></th>\n",
       "      <th>Gender</th>\n",
       "      <th>Price (INR)</th>\n",
       "      <th>NumImages</th>\n",
       "      <th>ID</th>\n",
       "      <th>Description</th>\n",
       "      <th>PrimaryColor</th>\n",
       "      <th>Gender_V1</th>\n",
       "    </tr>\n",
       "  </thead>\n",
       "  <tbody>\n",
       "    <tr>\n",
       "      <th>0</th>\n",
       "      <td>Women</td>\n",
       "      <td>593</td>\n",
       "      <td>5</td>\n",
       "      <td>10182131</td>\n",
       "      <td>Off-White printed woven A-line  top, has a rou...</td>\n",
       "      <td>White</td>\n",
       "      <td>F</td>\n",
       "    </tr>\n",
       "    <tr>\n",
       "      <th>1</th>\n",
       "      <td>Men</td>\n",
       "      <td>6396</td>\n",
       "      <td>5</td>\n",
       "      <td>10052169</td>\n",
       "      <td>Display: AnalogueMovement: QuartzPower source:...</td>\n",
       "      <td>Black</td>\n",
       "      <td>M</td>\n",
       "    </tr>\n",
       "    <tr>\n",
       "      <th>2</th>\n",
       "      <td>Women</td>\n",
       "      <td>599</td>\n",
       "      <td>5</td>\n",
       "      <td>10168643</td>\n",
       "      <td>Blue printed knitted regular  top, has a high ...</td>\n",
       "      <td>Blue</td>\n",
       "      <td>F</td>\n",
       "    </tr>\n",
       "    <tr>\n",
       "      <th>3</th>\n",
       "      <td>Men</td>\n",
       "      <td>1034</td>\n",
       "      <td>5</td>\n",
       "      <td>10155427</td>\n",
       "      <td>Grey and Purple checked smart casual shirt, ha...</td>\n",
       "      <td>Grey</td>\n",
       "      <td>M</td>\n",
       "    </tr>\n",
       "    <tr>\n",
       "      <th>4</th>\n",
       "      <td>Men</td>\n",
       "      <td>477</td>\n",
       "      <td>3</td>\n",
       "      <td>10191059</td>\n",
       "      <td>Beige and Brown striped beltReversible: NoStre...</td>\n",
       "      <td>Brown</td>\n",
       "      <td>M</td>\n",
       "    </tr>\n",
       "  </tbody>\n",
       "</table>\n",
       "</div>"
      ],
      "text/plain": [
       "  Gender  Price (INR)  NumImages        ID  \\\n",
       "0  Women          593          5  10182131   \n",
       "1    Men         6396          5  10052169   \n",
       "2  Women          599          5  10168643   \n",
       "3    Men         1034          5  10155427   \n",
       "4    Men          477          3  10191059   \n",
       "\n",
       "                                         Description PrimaryColor Gender_V1  \n",
       "0  Off-White printed woven A-line  top, has a rou...        White         F  \n",
       "1  Display: AnalogueMovement: QuartzPower source:...        Black         M  \n",
       "2  Blue printed knitted regular  top, has a high ...         Blue         F  \n",
       "3  Grey and Purple checked smart casual shirt, ha...         Grey         M  \n",
       "4  Beige and Brown striped beltReversible: NoStre...        Brown         M  "
      ]
     },
     "execution_count": 13,
     "metadata": {},
     "output_type": "execute_result"
    }
   ],
   "source": [
    "data_catlog.head()"
   ]
  },
  {
   "cell_type": "code",
   "execution_count": 14,
   "id": "ec2b5543",
   "metadata": {},
   "outputs": [
    {
     "data": {
      "text/plain": [
       "M    5691\n",
       "F    5566\n",
       "U    1234\n",
       "Name: Gender_V1, dtype: int64"
      ]
     },
     "execution_count": 14,
     "metadata": {},
     "output_type": "execute_result"
    }
   ],
   "source": [
    "data_catlog.Gender_V1.value_counts()"
   ]
  },
  {
   "cell_type": "code",
   "execution_count": null,
   "id": "c898187f",
   "metadata": {},
   "outputs": [],
   "source": []
  },
  {
   "cell_type": "code",
   "execution_count": 15,
   "id": "54ebf213",
   "metadata": {},
   "outputs": [],
   "source": [
    "### age flag - kids , adults\n",
    "# gender = boys ,girls,unisex kids -- kids \n",
    "# gender = men, women,unisex -- adults"
   ]
  },
  {
   "cell_type": "code",
   "execution_count": 16,
   "id": "be06a49e",
   "metadata": {},
   "outputs": [],
   "source": [
    "x = np.where ((data_catlog[\"Gender\"]==\"Boys\")|(data_catlog[\"Gender\"]==\"Girls\")|(data_catlog[\"Gender\"]==\"Unisex Kids\"),\"Kids\",\"adults\")"
   ]
  },
  {
   "cell_type": "code",
   "execution_count": 47,
   "id": "e48b69be",
   "metadata": {},
   "outputs": [],
   "source": [
    "data_catlog[\"age_flag\"]=x"
   ]
  },
  {
   "cell_type": "code",
   "execution_count": 48,
   "id": "19f14542",
   "metadata": {},
   "outputs": [
    {
     "data": {
      "text/plain": [
       "adults    10905\n",
       "Kids       1586\n",
       "Name: age_flag, dtype: int64"
      ]
     },
     "execution_count": 48,
     "metadata": {},
     "output_type": "execute_result"
    }
   ],
   "source": [
    "data_catlog.age_flag.value_counts()"
   ]
  },
  {
   "cell_type": "code",
   "execution_count": 19,
   "id": "bc23f3b5",
   "metadata": {},
   "outputs": [
    {
     "data": {
      "text/html": [
       "<div>\n",
       "<style scoped>\n",
       "    .dataframe tbody tr th:only-of-type {\n",
       "        vertical-align: middle;\n",
       "    }\n",
       "\n",
       "    .dataframe tbody tr th {\n",
       "        vertical-align: top;\n",
       "    }\n",
       "\n",
       "    .dataframe thead th {\n",
       "        text-align: right;\n",
       "    }\n",
       "</style>\n",
       "<table border=\"1\" class=\"dataframe\">\n",
       "  <thead>\n",
       "    <tr style=\"text-align: right;\">\n",
       "      <th></th>\n",
       "      <th>Gender</th>\n",
       "      <th>Price (INR)</th>\n",
       "      <th>NumImages</th>\n",
       "      <th>ID</th>\n",
       "      <th>Description</th>\n",
       "      <th>PrimaryColor</th>\n",
       "      <th>Gender_V1</th>\n",
       "      <th>age_flag</th>\n",
       "    </tr>\n",
       "  </thead>\n",
       "  <tbody>\n",
       "    <tr>\n",
       "      <th>0</th>\n",
       "      <td>Women</td>\n",
       "      <td>593</td>\n",
       "      <td>5</td>\n",
       "      <td>10182131</td>\n",
       "      <td>Off-White printed woven A-line  top, has a rou...</td>\n",
       "      <td>White</td>\n",
       "      <td>F</td>\n",
       "      <td>adults</td>\n",
       "    </tr>\n",
       "    <tr>\n",
       "      <th>1</th>\n",
       "      <td>Men</td>\n",
       "      <td>6396</td>\n",
       "      <td>5</td>\n",
       "      <td>10052169</td>\n",
       "      <td>Display: AnalogueMovement: QuartzPower source:...</td>\n",
       "      <td>Black</td>\n",
       "      <td>M</td>\n",
       "      <td>adults</td>\n",
       "    </tr>\n",
       "    <tr>\n",
       "      <th>2</th>\n",
       "      <td>Women</td>\n",
       "      <td>599</td>\n",
       "      <td>5</td>\n",
       "      <td>10168643</td>\n",
       "      <td>Blue printed knitted regular  top, has a high ...</td>\n",
       "      <td>Blue</td>\n",
       "      <td>F</td>\n",
       "      <td>adults</td>\n",
       "    </tr>\n",
       "    <tr>\n",
       "      <th>3</th>\n",
       "      <td>Men</td>\n",
       "      <td>1034</td>\n",
       "      <td>5</td>\n",
       "      <td>10155427</td>\n",
       "      <td>Grey and Purple checked smart casual shirt, ha...</td>\n",
       "      <td>Grey</td>\n",
       "      <td>M</td>\n",
       "      <td>adults</td>\n",
       "    </tr>\n",
       "    <tr>\n",
       "      <th>4</th>\n",
       "      <td>Men</td>\n",
       "      <td>477</td>\n",
       "      <td>3</td>\n",
       "      <td>10191059</td>\n",
       "      <td>Beige and Brown striped beltReversible: NoStre...</td>\n",
       "      <td>Brown</td>\n",
       "      <td>M</td>\n",
       "      <td>adults</td>\n",
       "    </tr>\n",
       "    <tr>\n",
       "      <th>...</th>\n",
       "      <td>...</td>\n",
       "      <td>...</td>\n",
       "      <td>...</td>\n",
       "      <td>...</td>\n",
       "      <td>...</td>\n",
       "      <td>...</td>\n",
       "      <td>...</td>\n",
       "      <td>...</td>\n",
       "    </tr>\n",
       "    <tr>\n",
       "      <th>12486</th>\n",
       "      <td>Women</td>\n",
       "      <td>6375</td>\n",
       "      <td>5</td>\n",
       "      <td>10211803</td>\n",
       "      <td>A pair of black pointed toe heeled boots, has ...</td>\n",
       "      <td>Black</td>\n",
       "      <td>F</td>\n",
       "      <td>adults</td>\n",
       "    </tr>\n",
       "    <tr>\n",
       "      <th>12487</th>\n",
       "      <td>Boys</td>\n",
       "      <td>559</td>\n",
       "      <td>7</td>\n",
       "      <td>10138361</td>\n",
       "      <td>Blue faded casual shirt, has a hood, long slee...</td>\n",
       "      <td>Blue</td>\n",
       "      <td>M</td>\n",
       "      <td>Kids</td>\n",
       "    </tr>\n",
       "    <tr>\n",
       "      <th>12488</th>\n",
       "      <td>Men</td>\n",
       "      <td>1399</td>\n",
       "      <td>5</td>\n",
       "      <td>10201271</td>\n",
       "      <td>A pair of brown comfort sandalsLeather upper w...</td>\n",
       "      <td>Brown</td>\n",
       "      <td>M</td>\n",
       "      <td>adults</td>\n",
       "    </tr>\n",
       "    <tr>\n",
       "      <th>12489</th>\n",
       "      <td>Women</td>\n",
       "      <td>976</td>\n",
       "      <td>5</td>\n",
       "      <td>10246229</td>\n",
       "      <td>A pair of black solid peep toes, has regular s...</td>\n",
       "      <td>Black</td>\n",
       "      <td>F</td>\n",
       "      <td>adults</td>\n",
       "    </tr>\n",
       "    <tr>\n",
       "      <th>12490</th>\n",
       "      <td>Women</td>\n",
       "      <td>1299</td>\n",
       "      <td>7</td>\n",
       "      <td>10270963</td>\n",
       "      <td>Navy Blue dark wash 5-pocket mid-rise cropped ...</td>\n",
       "      <td>Navy</td>\n",
       "      <td>F</td>\n",
       "      <td>adults</td>\n",
       "    </tr>\n",
       "  </tbody>\n",
       "</table>\n",
       "<p>12491 rows × 8 columns</p>\n",
       "</div>"
      ],
      "text/plain": [
       "      Gender  Price (INR)  NumImages        ID  \\\n",
       "0      Women          593          5  10182131   \n",
       "1        Men         6396          5  10052169   \n",
       "2      Women          599          5  10168643   \n",
       "3        Men         1034          5  10155427   \n",
       "4        Men          477          3  10191059   \n",
       "...      ...          ...        ...       ...   \n",
       "12486  Women         6375          5  10211803   \n",
       "12487   Boys          559          7  10138361   \n",
       "12488    Men         1399          5  10201271   \n",
       "12489  Women          976          5  10246229   \n",
       "12490  Women         1299          7  10270963   \n",
       "\n",
       "                                             Description PrimaryColor  \\\n",
       "0      Off-White printed woven A-line  top, has a rou...        White   \n",
       "1      Display: AnalogueMovement: QuartzPower source:...        Black   \n",
       "2      Blue printed knitted regular  top, has a high ...         Blue   \n",
       "3      Grey and Purple checked smart casual shirt, ha...         Grey   \n",
       "4      Beige and Brown striped beltReversible: NoStre...        Brown   \n",
       "...                                                  ...          ...   \n",
       "12486  A pair of black pointed toe heeled boots, has ...        Black   \n",
       "12487  Blue faded casual shirt, has a hood, long slee...         Blue   \n",
       "12488  A pair of brown comfort sandalsLeather upper w...        Brown   \n",
       "12489  A pair of black solid peep toes, has regular s...        Black   \n",
       "12490  Navy Blue dark wash 5-pocket mid-rise cropped ...         Navy   \n",
       "\n",
       "      Gender_V1 age_flag  \n",
       "0             F   adults  \n",
       "1             M   adults  \n",
       "2             F   adults  \n",
       "3             M   adults  \n",
       "4             M   adults  \n",
       "...         ...      ...  \n",
       "12486         F   adults  \n",
       "12487         M     Kids  \n",
       "12488         M   adults  \n",
       "12489         F   adults  \n",
       "12490         F   adults  \n",
       "\n",
       "[12491 rows x 8 columns]"
      ]
     },
     "execution_count": 19,
     "metadata": {},
     "output_type": "execute_result"
    }
   ],
   "source": [
    "data_catlog"
   ]
  },
  {
   "cell_type": "code",
   "execution_count": 20,
   "id": "71c19559",
   "metadata": {},
   "outputs": [],
   "source": [
    "data_catlog['v1'] = data_catlog.Description.apply(lambda x : len(x))"
   ]
  },
  {
   "cell_type": "code",
   "execution_count": 21,
   "id": "6e5d7bed",
   "metadata": {},
   "outputs": [
    {
     "data": {
      "text/html": [
       "<div>\n",
       "<style scoped>\n",
       "    .dataframe tbody tr th:only-of-type {\n",
       "        vertical-align: middle;\n",
       "    }\n",
       "\n",
       "    .dataframe tbody tr th {\n",
       "        vertical-align: top;\n",
       "    }\n",
       "\n",
       "    .dataframe thead th {\n",
       "        text-align: right;\n",
       "    }\n",
       "</style>\n",
       "<table border=\"1\" class=\"dataframe\">\n",
       "  <thead>\n",
       "    <tr style=\"text-align: right;\">\n",
       "      <th></th>\n",
       "      <th>Gender</th>\n",
       "      <th>Price (INR)</th>\n",
       "      <th>NumImages</th>\n",
       "      <th>ID</th>\n",
       "      <th>Description</th>\n",
       "      <th>PrimaryColor</th>\n",
       "      <th>Gender_V1</th>\n",
       "      <th>age_flag</th>\n",
       "      <th>v1</th>\n",
       "    </tr>\n",
       "  </thead>\n",
       "  <tbody>\n",
       "    <tr>\n",
       "      <th>0</th>\n",
       "      <td>Women</td>\n",
       "      <td>593</td>\n",
       "      <td>5</td>\n",
       "      <td>10182131</td>\n",
       "      <td>Off-White printed woven A-line  top, has a rou...</td>\n",
       "      <td>White</td>\n",
       "      <td>F</td>\n",
       "      <td>adults</td>\n",
       "      <td>102</td>\n",
       "    </tr>\n",
       "    <tr>\n",
       "      <th>1</th>\n",
       "      <td>Men</td>\n",
       "      <td>6396</td>\n",
       "      <td>5</td>\n",
       "      <td>10052169</td>\n",
       "      <td>Display: AnalogueMovement: QuartzPower source:...</td>\n",
       "      <td>Black</td>\n",
       "      <td>M</td>\n",
       "      <td>adults</td>\n",
       "      <td>317</td>\n",
       "    </tr>\n",
       "    <tr>\n",
       "      <th>2</th>\n",
       "      <td>Women</td>\n",
       "      <td>599</td>\n",
       "      <td>5</td>\n",
       "      <td>10168643</td>\n",
       "      <td>Blue printed knitted regular  top, has a high ...</td>\n",
       "      <td>Blue</td>\n",
       "      <td>F</td>\n",
       "      <td>adults</td>\n",
       "      <td>77</td>\n",
       "    </tr>\n",
       "    <tr>\n",
       "      <th>3</th>\n",
       "      <td>Men</td>\n",
       "      <td>1034</td>\n",
       "      <td>5</td>\n",
       "      <td>10155427</td>\n",
       "      <td>Grey and Purple checked smart casual shirt, ha...</td>\n",
       "      <td>Grey</td>\n",
       "      <td>M</td>\n",
       "      <td>adults</td>\n",
       "      <td>110</td>\n",
       "    </tr>\n",
       "    <tr>\n",
       "      <th>4</th>\n",
       "      <td>Men</td>\n",
       "      <td>477</td>\n",
       "      <td>3</td>\n",
       "      <td>10191059</td>\n",
       "      <td>Beige and Brown striped beltReversible: NoStre...</td>\n",
       "      <td>Brown</td>\n",
       "      <td>M</td>\n",
       "      <td>adults</td>\n",
       "      <td>141</td>\n",
       "    </tr>\n",
       "  </tbody>\n",
       "</table>\n",
       "</div>"
      ],
      "text/plain": [
       "  Gender  Price (INR)  NumImages        ID  \\\n",
       "0  Women          593          5  10182131   \n",
       "1    Men         6396          5  10052169   \n",
       "2  Women          599          5  10168643   \n",
       "3    Men         1034          5  10155427   \n",
       "4    Men          477          3  10191059   \n",
       "\n",
       "                                         Description PrimaryColor Gender_V1  \\\n",
       "0  Off-White printed woven A-line  top, has a rou...        White         F   \n",
       "1  Display: AnalogueMovement: QuartzPower source:...        Black         M   \n",
       "2  Blue printed knitted regular  top, has a high ...         Blue         F   \n",
       "3  Grey and Purple checked smart casual shirt, ha...         Grey         M   \n",
       "4  Beige and Brown striped beltReversible: NoStre...        Brown         M   \n",
       "\n",
       "  age_flag   v1  \n",
       "0   adults  102  \n",
       "1   adults  317  \n",
       "2   adults   77  \n",
       "3   adults  110  \n",
       "4   adults  141  "
      ]
     },
     "execution_count": 21,
     "metadata": {},
     "output_type": "execute_result"
    }
   ],
   "source": [
    "data_catlog.head()"
   ]
  },
  {
   "cell_type": "code",
   "execution_count": 22,
   "id": "30da09a4",
   "metadata": {},
   "outputs": [
    {
     "data": {
      "text/plain": [
       "Blue         3443\n",
       " Black       1640\n",
       " Red         1543\n",
       " Green        908\n",
       " White        880\n",
       " Grey         684\n",
       " Brown        473\n",
       " Yellow       406\n",
       " Pink         391\n",
       " Gold         236\n",
       " Beige        236\n",
       " Maroon       187\n",
       " Orange       130\n",
       " Silver       111\n",
       " Purple        65\n",
       " Burgundy      64\n",
       " Khaki         56\n",
       " Navy          54\n",
       " Lavender      19\n",
       " Matte         17\n",
       " Mustard       15\n",
       " Magenta       13\n",
       " Charcoal      10\n",
       " Rose           8\n",
       " Platinum       3\n",
       " Bronze         3\n",
       " Peach          2\n",
       "Name: PrimaryColor, dtype: int64"
      ]
     },
     "execution_count": 22,
     "metadata": {},
     "output_type": "execute_result"
    }
   ],
   "source": [
    "data_catlog.PrimaryColor.value_counts()"
   ]
  },
  {
   "cell_type": "code",
   "execution_count": 23,
   "id": "e41e3f54",
   "metadata": {},
   "outputs": [
    {
     "data": {
      "text/html": [
       "<div>\n",
       "<style scoped>\n",
       "    .dataframe tbody tr th:only-of-type {\n",
       "        vertical-align: middle;\n",
       "    }\n",
       "\n",
       "    .dataframe tbody tr th {\n",
       "        vertical-align: top;\n",
       "    }\n",
       "\n",
       "    .dataframe thead th {\n",
       "        text-align: right;\n",
       "    }\n",
       "</style>\n",
       "<table border=\"1\" class=\"dataframe\">\n",
       "  <thead>\n",
       "    <tr style=\"text-align: right;\">\n",
       "      <th></th>\n",
       "      <th>ProductID</th>\n",
       "      <th>ProductName</th>\n",
       "      <th>ProductBrand</th>\n",
       "    </tr>\n",
       "  </thead>\n",
       "  <tbody>\n",
       "    <tr>\n",
       "      <th>count</th>\n",
       "      <td>1.249100e+04</td>\n",
       "      <td>12491</td>\n",
       "      <td>12491</td>\n",
       "    </tr>\n",
       "    <tr>\n",
       "      <th>unique</th>\n",
       "      <td>NaN</td>\n",
       "      <td>10761</td>\n",
       "      <td>677</td>\n",
       "    </tr>\n",
       "    <tr>\n",
       "      <th>top</th>\n",
       "      <td>NaN</td>\n",
       "      <td>Parx Men Blue Slim Fit Checked Casual Shirt</td>\n",
       "      <td>Indian Terrain</td>\n",
       "    </tr>\n",
       "    <tr>\n",
       "      <th>freq</th>\n",
       "      <td>NaN</td>\n",
       "      <td>16</td>\n",
       "      <td>971</td>\n",
       "    </tr>\n",
       "    <tr>\n",
       "      <th>mean</th>\n",
       "      <td>9.917160e+06</td>\n",
       "      <td>NaN</td>\n",
       "      <td>NaN</td>\n",
       "    </tr>\n",
       "    <tr>\n",
       "      <th>std</th>\n",
       "      <td>1.438006e+06</td>\n",
       "      <td>NaN</td>\n",
       "      <td>NaN</td>\n",
       "    </tr>\n",
       "    <tr>\n",
       "      <th>min</th>\n",
       "      <td>1.012060e+05</td>\n",
       "      <td>NaN</td>\n",
       "      <td>NaN</td>\n",
       "    </tr>\n",
       "    <tr>\n",
       "      <th>25%</th>\n",
       "      <td>1.006215e+07</td>\n",
       "      <td>NaN</td>\n",
       "      <td>NaN</td>\n",
       "    </tr>\n",
       "    <tr>\n",
       "      <th>50%</th>\n",
       "      <td>1.015463e+07</td>\n",
       "      <td>NaN</td>\n",
       "      <td>NaN</td>\n",
       "    </tr>\n",
       "    <tr>\n",
       "      <th>75%</th>\n",
       "      <td>1.021565e+07</td>\n",
       "      <td>NaN</td>\n",
       "      <td>NaN</td>\n",
       "    </tr>\n",
       "    <tr>\n",
       "      <th>max</th>\n",
       "      <td>1.027514e+07</td>\n",
       "      <td>NaN</td>\n",
       "      <td>NaN</td>\n",
       "    </tr>\n",
       "  </tbody>\n",
       "</table>\n",
       "</div>"
      ],
      "text/plain": [
       "           ProductID                                  ProductName  \\\n",
       "count   1.249100e+04                                        12491   \n",
       "unique           NaN                                        10761   \n",
       "top              NaN  Parx Men Blue Slim Fit Checked Casual Shirt   \n",
       "freq             NaN                                           16   \n",
       "mean    9.917160e+06                                          NaN   \n",
       "std     1.438006e+06                                          NaN   \n",
       "min     1.012060e+05                                          NaN   \n",
       "25%     1.006215e+07                                          NaN   \n",
       "50%     1.015463e+07                                          NaN   \n",
       "75%     1.021565e+07                                          NaN   \n",
       "max     1.027514e+07                                          NaN   \n",
       "\n",
       "          ProductBrand  \n",
       "count            12491  \n",
       "unique             677  \n",
       "top     Indian Terrain  \n",
       "freq               971  \n",
       "mean               NaN  \n",
       "std                NaN  \n",
       "min                NaN  \n",
       "25%                NaN  \n",
       "50%                NaN  \n",
       "75%                NaN  \n",
       "max                NaN  "
      ]
     },
     "execution_count": 23,
     "metadata": {},
     "output_type": "execute_result"
    }
   ],
   "source": [
    "data_detail.describe(include = \"all\")"
   ]
  },
  {
   "cell_type": "code",
   "execution_count": 24,
   "id": "e1d6d21d",
   "metadata": {},
   "outputs": [],
   "source": [
    "data_new = pd.merge(data_catlog,data_detail,how = \"left\",left_on = \"ID\",right_on = \"ProductID\")"
   ]
  },
  {
   "cell_type": "code",
   "execution_count": 25,
   "id": "e97d89a9",
   "metadata": {},
   "outputs": [
    {
     "data": {
      "text/html": [
       "<div>\n",
       "<style scoped>\n",
       "    .dataframe tbody tr th:only-of-type {\n",
       "        vertical-align: middle;\n",
       "    }\n",
       "\n",
       "    .dataframe tbody tr th {\n",
       "        vertical-align: top;\n",
       "    }\n",
       "\n",
       "    .dataframe thead th {\n",
       "        text-align: right;\n",
       "    }\n",
       "</style>\n",
       "<table border=\"1\" class=\"dataframe\">\n",
       "  <thead>\n",
       "    <tr style=\"text-align: right;\">\n",
       "      <th></th>\n",
       "      <th>Gender</th>\n",
       "      <th>Price (INR)</th>\n",
       "      <th>NumImages</th>\n",
       "      <th>ID</th>\n",
       "      <th>Description</th>\n",
       "      <th>PrimaryColor</th>\n",
       "      <th>Gender_V1</th>\n",
       "      <th>age_flag</th>\n",
       "      <th>v1</th>\n",
       "      <th>ProductID</th>\n",
       "      <th>ProductName</th>\n",
       "      <th>ProductBrand</th>\n",
       "    </tr>\n",
       "  </thead>\n",
       "  <tbody>\n",
       "    <tr>\n",
       "      <th>0</th>\n",
       "      <td>Women</td>\n",
       "      <td>593</td>\n",
       "      <td>5</td>\n",
       "      <td>10182131</td>\n",
       "      <td>Off-White printed woven A-line  top, has a rou...</td>\n",
       "      <td>White</td>\n",
       "      <td>F</td>\n",
       "      <td>adults</td>\n",
       "      <td>102</td>\n",
       "      <td>10182131</td>\n",
       "      <td>Bhama Couture Women Off-White Printed Pure Cot...</td>\n",
       "      <td>Bhama Couture</td>\n",
       "    </tr>\n",
       "    <tr>\n",
       "      <th>1</th>\n",
       "      <td>Men</td>\n",
       "      <td>6396</td>\n",
       "      <td>5</td>\n",
       "      <td>10052169</td>\n",
       "      <td>Display: AnalogueMovement: QuartzPower source:...</td>\n",
       "      <td>Black</td>\n",
       "      <td>M</td>\n",
       "      <td>adults</td>\n",
       "      <td>317</td>\n",
       "      <td>10052169</td>\n",
       "      <td>Titan Octane Men Black Analogue watch NL90104KM02</td>\n",
       "      <td>Titan</td>\n",
       "    </tr>\n",
       "    <tr>\n",
       "      <th>2</th>\n",
       "      <td>Women</td>\n",
       "      <td>599</td>\n",
       "      <td>5</td>\n",
       "      <td>10168643</td>\n",
       "      <td>Blue printed knitted regular  top, has a high ...</td>\n",
       "      <td>Blue</td>\n",
       "      <td>F</td>\n",
       "      <td>adults</td>\n",
       "      <td>77</td>\n",
       "      <td>10168643</td>\n",
       "      <td>Cation Women Blue Printed Crop Top</td>\n",
       "      <td>Cation</td>\n",
       "    </tr>\n",
       "    <tr>\n",
       "      <th>3</th>\n",
       "      <td>Men</td>\n",
       "      <td>1034</td>\n",
       "      <td>5</td>\n",
       "      <td>10155427</td>\n",
       "      <td>Grey and Purple checked smart casual shirt, ha...</td>\n",
       "      <td>Grey</td>\n",
       "      <td>M</td>\n",
       "      <td>adults</td>\n",
       "      <td>110</td>\n",
       "      <td>10155427</td>\n",
       "      <td>Indian Terrain Men Grey &amp; Purple Slim Fit Chec...</td>\n",
       "      <td>Indian Terrain</td>\n",
       "    </tr>\n",
       "    <tr>\n",
       "      <th>4</th>\n",
       "      <td>Men</td>\n",
       "      <td>477</td>\n",
       "      <td>3</td>\n",
       "      <td>10191059</td>\n",
       "      <td>Beige and Brown striped beltReversible: NoStre...</td>\n",
       "      <td>Brown</td>\n",
       "      <td>M</td>\n",
       "      <td>adults</td>\n",
       "      <td>141</td>\n",
       "      <td>10191059</td>\n",
       "      <td>Fastrack Men Beige &amp; Brown Striped Belt</td>\n",
       "      <td>Fastrack</td>\n",
       "    </tr>\n",
       "  </tbody>\n",
       "</table>\n",
       "</div>"
      ],
      "text/plain": [
       "  Gender  Price (INR)  NumImages        ID  \\\n",
       "0  Women          593          5  10182131   \n",
       "1    Men         6396          5  10052169   \n",
       "2  Women          599          5  10168643   \n",
       "3    Men         1034          5  10155427   \n",
       "4    Men          477          3  10191059   \n",
       "\n",
       "                                         Description PrimaryColor Gender_V1  \\\n",
       "0  Off-White printed woven A-line  top, has a rou...        White         F   \n",
       "1  Display: AnalogueMovement: QuartzPower source:...        Black         M   \n",
       "2  Blue printed knitted regular  top, has a high ...         Blue         F   \n",
       "3  Grey and Purple checked smart casual shirt, ha...         Grey         M   \n",
       "4  Beige and Brown striped beltReversible: NoStre...        Brown         M   \n",
       "\n",
       "  age_flag   v1  ProductID                                        ProductName  \\\n",
       "0   adults  102   10182131  Bhama Couture Women Off-White Printed Pure Cot...   \n",
       "1   adults  317   10052169  Titan Octane Men Black Analogue watch NL90104KM02   \n",
       "2   adults   77   10168643                 Cation Women Blue Printed Crop Top   \n",
       "3   adults  110   10155427  Indian Terrain Men Grey & Purple Slim Fit Chec...   \n",
       "4   adults  141   10191059            Fastrack Men Beige & Brown Striped Belt   \n",
       "\n",
       "     ProductBrand  \n",
       "0   Bhama Couture  \n",
       "1           Titan  \n",
       "2          Cation  \n",
       "3  Indian Terrain  \n",
       "4        Fastrack  "
      ]
     },
     "execution_count": 25,
     "metadata": {},
     "output_type": "execute_result"
    }
   ],
   "source": [
    "data_new.head()"
   ]
  },
  {
   "cell_type": "code",
   "execution_count": 26,
   "id": "4833c9f2",
   "metadata": {},
   "outputs": [],
   "source": [
    "data_new = data_new.drop_duplicates()"
   ]
  },
  {
   "cell_type": "code",
   "execution_count": 27,
   "id": "e7cdad6b",
   "metadata": {},
   "outputs": [
    {
     "data": {
      "text/plain": [
       "Gender            0\n",
       "Price (INR)       0\n",
       "NumImages         0\n",
       "ID                0\n",
       "Description       0\n",
       "PrimaryColor    894\n",
       "Gender_V1         0\n",
       "age_flag          0\n",
       "v1                0\n",
       "ProductID         0\n",
       "ProductName       0\n",
       "ProductBrand      0\n",
       "dtype: int64"
      ]
     },
     "execution_count": 27,
     "metadata": {},
     "output_type": "execute_result"
    }
   ],
   "source": [
    "data_new.isnull().sum()"
   ]
  },
  {
   "cell_type": "code",
   "execution_count": 28,
   "id": "35329a4f",
   "metadata": {},
   "outputs": [
    {
     "data": {
      "text/plain": [
       "(12491, 12)"
      ]
     },
     "execution_count": 28,
     "metadata": {},
     "output_type": "execute_result"
    }
   ],
   "source": [
    "data_new.shape"
   ]
  },
  {
   "cell_type": "code",
   "execution_count": 29,
   "id": "94f78548",
   "metadata": {},
   "outputs": [
    {
     "data": {
      "text/plain": [
       "'Bhama Couture'"
      ]
     },
     "execution_count": 29,
     "metadata": {},
     "output_type": "execute_result"
    }
   ],
   "source": [
    "data_new.ProductBrand[0]"
   ]
  },
  {
   "cell_type": "code",
   "execution_count": 30,
   "id": "40dd4395",
   "metadata": {},
   "outputs": [
    {
     "data": {
      "text/plain": [
       "' White'"
      ]
     },
     "execution_count": 30,
     "metadata": {},
     "output_type": "execute_result"
    }
   ],
   "source": [
    "data_new.PrimaryColor[0]\n"
   ]
  },
  {
   "cell_type": "code",
   "execution_count": 31,
   "id": "1505a750",
   "metadata": {},
   "outputs": [],
   "source": [
    "data_new[\"PrimaryColor\"] = data_new.PrimaryColor.str.strip()"
   ]
  },
  {
   "cell_type": "code",
   "execution_count": 32,
   "id": "52944f26",
   "metadata": {},
   "outputs": [
    {
     "data": {
      "text/plain": [
       "'White'"
      ]
     },
     "execution_count": 32,
     "metadata": {},
     "output_type": "execute_result"
    }
   ],
   "source": [
    "data_new.PrimaryColor[0] # remove white space from leading edge "
   ]
  },
  {
   "cell_type": "code",
   "execution_count": 33,
   "id": "6a302861",
   "metadata": {},
   "outputs": [],
   "source": [
    "data_new['PrimaryColor'] = data_new.PrimaryColor.fillna('others')\n",
    "\n",
    "# done missing value treatment # By central tendecy value (mean ,mode, median)\n",
    "#if missing percent is > 50% we drop that variable\n",
    "#if the data type is object then we replace with = MODE \n",
    "# if the data type is numeric - no outlier - mean\n",
    "# if the data type is numeric - With Outlier - Median "
   ]
  },
  {
   "cell_type": "code",
   "execution_count": 34,
   "id": "9af1c686",
   "metadata": {},
   "outputs": [
    {
     "name": "stdout",
     "output_type": "stream",
     "text": [
      "<class 'pandas.core.frame.DataFrame'>\n",
      "Int64Index: 12491 entries, 0 to 12490\n",
      "Data columns (total 12 columns):\n",
      " #   Column        Non-Null Count  Dtype \n",
      "---  ------        --------------  ----- \n",
      " 0   Gender        12491 non-null  object\n",
      " 1   Price (INR)   12491 non-null  int64 \n",
      " 2   NumImages     12491 non-null  int64 \n",
      " 3   ID            12491 non-null  int64 \n",
      " 4   Description   12491 non-null  object\n",
      " 5   PrimaryColor  12491 non-null  object\n",
      " 6   Gender_V1     12491 non-null  object\n",
      " 7   age_flag      12491 non-null  object\n",
      " 8   v1            12491 non-null  int64 \n",
      " 9   ProductID     12491 non-null  int64 \n",
      " 10  ProductName   12491 non-null  object\n",
      " 11  ProductBrand  12491 non-null  object\n",
      "dtypes: int64(5), object(7)\n",
      "memory usage: 1.5+ MB\n"
     ]
    }
   ],
   "source": [
    "data_new.info()"
   ]
  },
  {
   "cell_type": "code",
   "execution_count": 46,
   "id": "08c8e821",
   "metadata": {},
   "outputs": [],
   "source": [
    "data_new.rename(columns = {'(Price (INR)':'Price'}, inplace = True)"
   ]
  },
  {
   "cell_type": "code",
   "execution_count": 45,
   "id": "d71f962f",
   "metadata": {},
   "outputs": [
    {
     "name": "stdout",
     "output_type": "stream",
     "text": [
      "<class 'pandas.core.frame.DataFrame'>\n",
      "Int64Index: 12491 entries, 0 to 12490\n",
      "Data columns (total 12 columns):\n",
      " #   Column        Non-Null Count  Dtype \n",
      "---  ------        --------------  ----- \n",
      " 0   Gender        12491 non-null  object\n",
      " 1   Price (INR)   12491 non-null  int64 \n",
      " 2   NumImages     12491 non-null  int64 \n",
      " 3   ID            12491 non-null  int64 \n",
      " 4   Description   12491 non-null  object\n",
      " 5   PrimaryColor  12491 non-null  object\n",
      " 6   Gender_V1     12491 non-null  object\n",
      " 7   age_flag      12491 non-null  object\n",
      " 8   v1            12491 non-null  int64 \n",
      " 9   ProductID     12491 non-null  int64 \n",
      " 10  ProductName   12491 non-null  object\n",
      " 11  ProductBrand  12491 non-null  object\n",
      "dtypes: int64(5), object(7)\n",
      "memory usage: 1.5+ MB\n"
     ]
    }
   ],
   "source": [
    "data_new.info()"
   ]
  },
  {
   "cell_type": "code",
   "execution_count": null,
   "id": "83d77ac9",
   "metadata": {},
   "outputs": [],
   "source": [
    "#BIVERIATE Analysis "
   ]
  },
  {
   "cell_type": "code",
   "execution_count": 49,
   "id": "ba6fc38d",
   "metadata": {},
   "outputs": [],
   "source": [
    "df_1 = data_new"
   ]
  },
  {
   "cell_type": "code",
   "execution_count": 50,
   "id": "7ffac505",
   "metadata": {},
   "outputs": [
    {
     "data": {
      "text/html": [
       "<div>\n",
       "<style scoped>\n",
       "    .dataframe tbody tr th:only-of-type {\n",
       "        vertical-align: middle;\n",
       "    }\n",
       "\n",
       "    .dataframe tbody tr th {\n",
       "        vertical-align: top;\n",
       "    }\n",
       "\n",
       "    .dataframe thead th {\n",
       "        text-align: right;\n",
       "    }\n",
       "</style>\n",
       "<table border=\"1\" class=\"dataframe\">\n",
       "  <thead>\n",
       "    <tr style=\"text-align: right;\">\n",
       "      <th></th>\n",
       "      <th>Gender</th>\n",
       "      <th>Price (INR)</th>\n",
       "      <th>NumImages</th>\n",
       "      <th>ID</th>\n",
       "      <th>Description</th>\n",
       "      <th>PrimaryColor</th>\n",
       "      <th>Gender_V1</th>\n",
       "      <th>age_flag</th>\n",
       "      <th>v1</th>\n",
       "      <th>ProductID</th>\n",
       "      <th>ProductName</th>\n",
       "      <th>ProductBrand</th>\n",
       "    </tr>\n",
       "  </thead>\n",
       "  <tbody>\n",
       "    <tr>\n",
       "      <th>0</th>\n",
       "      <td>Women</td>\n",
       "      <td>593</td>\n",
       "      <td>5</td>\n",
       "      <td>10182131</td>\n",
       "      <td>Off-White printed woven A-line  top, has a rou...</td>\n",
       "      <td>White</td>\n",
       "      <td>F</td>\n",
       "      <td>adults</td>\n",
       "      <td>102</td>\n",
       "      <td>10182131</td>\n",
       "      <td>Bhama Couture Women Off-White Printed Pure Cot...</td>\n",
       "      <td>Bhama Couture</td>\n",
       "    </tr>\n",
       "    <tr>\n",
       "      <th>1</th>\n",
       "      <td>Men</td>\n",
       "      <td>6396</td>\n",
       "      <td>5</td>\n",
       "      <td>10052169</td>\n",
       "      <td>Display: AnalogueMovement: QuartzPower source:...</td>\n",
       "      <td>Black</td>\n",
       "      <td>M</td>\n",
       "      <td>adults</td>\n",
       "      <td>317</td>\n",
       "      <td>10052169</td>\n",
       "      <td>Titan Octane Men Black Analogue watch NL90104KM02</td>\n",
       "      <td>Titan</td>\n",
       "    </tr>\n",
       "    <tr>\n",
       "      <th>2</th>\n",
       "      <td>Women</td>\n",
       "      <td>599</td>\n",
       "      <td>5</td>\n",
       "      <td>10168643</td>\n",
       "      <td>Blue printed knitted regular  top, has a high ...</td>\n",
       "      <td>Blue</td>\n",
       "      <td>F</td>\n",
       "      <td>adults</td>\n",
       "      <td>77</td>\n",
       "      <td>10168643</td>\n",
       "      <td>Cation Women Blue Printed Crop Top</td>\n",
       "      <td>Cation</td>\n",
       "    </tr>\n",
       "    <tr>\n",
       "      <th>3</th>\n",
       "      <td>Men</td>\n",
       "      <td>1034</td>\n",
       "      <td>5</td>\n",
       "      <td>10155427</td>\n",
       "      <td>Grey and Purple checked smart casual shirt, ha...</td>\n",
       "      <td>Grey</td>\n",
       "      <td>M</td>\n",
       "      <td>adults</td>\n",
       "      <td>110</td>\n",
       "      <td>10155427</td>\n",
       "      <td>Indian Terrain Men Grey &amp; Purple Slim Fit Chec...</td>\n",
       "      <td>Indian Terrain</td>\n",
       "    </tr>\n",
       "    <tr>\n",
       "      <th>4</th>\n",
       "      <td>Men</td>\n",
       "      <td>477</td>\n",
       "      <td>3</td>\n",
       "      <td>10191059</td>\n",
       "      <td>Beige and Brown striped beltReversible: NoStre...</td>\n",
       "      <td>Brown</td>\n",
       "      <td>M</td>\n",
       "      <td>adults</td>\n",
       "      <td>141</td>\n",
       "      <td>10191059</td>\n",
       "      <td>Fastrack Men Beige &amp; Brown Striped Belt</td>\n",
       "      <td>Fastrack</td>\n",
       "    </tr>\n",
       "  </tbody>\n",
       "</table>\n",
       "</div>"
      ],
      "text/plain": [
       "  Gender  Price (INR)  NumImages        ID  \\\n",
       "0  Women          593          5  10182131   \n",
       "1    Men         6396          5  10052169   \n",
       "2  Women          599          5  10168643   \n",
       "3    Men         1034          5  10155427   \n",
       "4    Men          477          3  10191059   \n",
       "\n",
       "                                         Description PrimaryColor Gender_V1  \\\n",
       "0  Off-White printed woven A-line  top, has a rou...        White         F   \n",
       "1  Display: AnalogueMovement: QuartzPower source:...        Black         M   \n",
       "2  Blue printed knitted regular  top, has a high ...         Blue         F   \n",
       "3  Grey and Purple checked smart casual shirt, ha...         Grey         M   \n",
       "4  Beige and Brown striped beltReversible: NoStre...        Brown         M   \n",
       "\n",
       "  age_flag   v1  ProductID                                        ProductName  \\\n",
       "0   adults  102   10182131  Bhama Couture Women Off-White Printed Pure Cot...   \n",
       "1   adults  317   10052169  Titan Octane Men Black Analogue watch NL90104KM02   \n",
       "2   adults   77   10168643                 Cation Women Blue Printed Crop Top   \n",
       "3   adults  110   10155427  Indian Terrain Men Grey & Purple Slim Fit Chec...   \n",
       "4   adults  141   10191059            Fastrack Men Beige & Brown Striped Belt   \n",
       "\n",
       "     ProductBrand  \n",
       "0   Bhama Couture  \n",
       "1           Titan  \n",
       "2          Cation  \n",
       "3  Indian Terrain  \n",
       "4        Fastrack  "
      ]
     },
     "execution_count": 50,
     "metadata": {},
     "output_type": "execute_result"
    }
   ],
   "source": [
    "df_1.head()"
   ]
  },
  {
   "cell_type": "code",
   "execution_count": 53,
   "id": "7f914c26",
   "metadata": {},
   "outputs": [
    {
     "data": {
      "text/plain": [
       "M    5691\n",
       "F    5566\n",
       "U    1234\n",
       "Name: Gender_V1, dtype: int64"
      ]
     },
     "execution_count": 53,
     "metadata": {},
     "output_type": "execute_result"
    }
   ],
   "source": [
    "df_1.Gender_V1.value_counts()"
   ]
  },
  {
   "cell_type": "code",
   "execution_count": 56,
   "id": "76c9229b",
   "metadata": {},
   "outputs": [
    {
     "data": {
      "text/plain": [
       "Gender_V1\n",
       "F    1323.562702\n",
       "M    1434.021613\n",
       "U    2120.924635\n",
       "Name: Price (INR), dtype: float64"
      ]
     },
     "execution_count": 56,
     "metadata": {},
     "output_type": "execute_result"
    }
   ],
   "source": [
    "df_1.groupby('Gender_V1')['Price (INR)'].mean() # Perform Bivariate analysis to find avaerage ordered value of gendres "
   ]
  },
  {
   "cell_type": "code",
   "execution_count": 71,
   "id": "6df44f6e",
   "metadata": {},
   "outputs": [
    {
     "data": {
      "image/png": "[encoded data removed]",
      "text/plain": [
       "<Figure size 1440x360 with 1 Axes>"
      ]
     },
     "metadata": {
      "needs_background": "light"
     },
     "output_type": "display_data"
    }
   ],
   "source": [
    "plt.figure(figsize = (20,5))\n",
    "sns.barplot(x='Gender',y='Price (INR)',data = df_1);\n",
    "plt.show()"
   ]
  },
  {
   "cell_type": "code",
   "execution_count": 66,
   "id": "edbdaf61",
   "metadata": {},
   "outputs": [
    {
     "data": {
      "text/plain": [
       "Gender_V1\n",
       "F    4.951671\n",
       "M    4.981198\n",
       "U    4.431118\n",
       "Name: NumImages, dtype: float64"
      ]
     },
     "execution_count": 66,
     "metadata": {},
     "output_type": "execute_result"
    }
   ],
   "source": [
    "df_1.groupby('Gender_V1')['NumImages'].mean() # from this we found the avg. order value of unisex is higher but the images \n",
    "\n",
    "#they watch is less. we will suggest to increse number of images "
   ]
  },
  {
   "cell_type": "code",
   "execution_count": 72,
   "id": "6d05b567",
   "metadata": {},
   "outputs": [
    {
     "data": {
      "image/png": "[encoded data removed]",
      "text/plain": [
       "<Figure size 1440x360 with 1 Axes>"
      ]
     },
     "metadata": {
      "needs_background": "light"
     },
     "output_type": "display_data"
    }
   ],
   "source": [
    "plt.figure(figsize = (20,5))\n",
    "sns.barplot(x='Gender' , y = 'NumImages' ,data = df_1);\n",
    "plt.show()"
   ]
  },
  {
   "cell_type": "code",
   "execution_count": 73,
   "id": "8e41e02f",
   "metadata": {},
   "outputs": [
    {
     "data": {
      "text/plain": [
       "Indian Terrain    971\n",
       "Puma              345\n",
       "Pepe Jeans        340\n",
       "AURELIA           307\n",
       "Flying Machine    301\n",
       "                 ... \n",
       "Lychee bags         1\n",
       "CERIZ               1\n",
       "Fourwalls           1\n",
       "Daffodils           1\n",
       "FS Mini Klub        1\n",
       "Name: ProductBrand, Length: 677, dtype: int64"
      ]
     },
     "execution_count": 73,
     "metadata": {},
     "output_type": "execute_result"
    }
   ],
   "source": [
    "df_1.ProductBrand.value_counts()"
   ]
  },
  {
   "cell_type": "code",
   "execution_count": 80,
   "id": "3aff5c70",
   "metadata": {},
   "outputs": [],
   "source": [
    "df_2 = df_1[df_1['Price (INR)']<1500]\n"
   ]
  },
  {
   "cell_type": "code",
   "execution_count": 81,
   "id": "4dbf9975",
   "metadata": {},
   "outputs": [
    {
     "data": {
      "text/plain": [
       "Indian Terrain    859\n",
       "Pepe Jeans        314\n",
       "Flying Machine    288\n",
       "AURELIA           259\n",
       "Roadster          211\n",
       "                 ... \n",
       "Devis               1\n",
       "SASSAFRAS           1\n",
       "LilPicks            1\n",
       "Crimsoune Club      1\n",
       "FS Mini Klub        1\n",
       "Name: ProductBrand, Length: 579, dtype: int64"
      ]
     },
     "execution_count": 81,
     "metadata": {},
     "output_type": "execute_result"
    }
   ],
   "source": [
    "df_2.ProductBrand.value_counts()"
   ]
  },
  {
   "cell_type": "code",
   "execution_count": 82,
   "id": "2dcc8348",
   "metadata": {},
   "outputs": [],
   "source": [
    "df_3 = df_1[df_1['Price (INR)']>=1500]"
   ]
  },
  {
   "cell_type": "code",
   "execution_count": 83,
   "id": "da54bb2b",
   "metadata": {},
   "outputs": [
    {
     "data": {
      "text/plain": [
       "Puma                  306\n",
       "Calvin Klein Jeans    131\n",
       "Indian Terrain        112\n",
       "Titan                 104\n",
       "WROGN                  92\n",
       "                     ... \n",
       "DEYANN                  1\n",
       "Proline Active          1\n",
       "Organic Harvest         1\n",
       "OFF LIMITS              1\n",
       "pinwheel                1\n",
       "Name: ProductBrand, Length: 300, dtype: int64"
      ]
     },
     "execution_count": 83,
     "metadata": {},
     "output_type": "execute_result"
    }
   ],
   "source": [
    "df_3.ProductBrand.value_counts()"
   ]
  },
  {
   "cell_type": "code",
   "execution_count": 86,
   "id": "62badefb",
   "metadata": {},
   "outputs": [],
   "source": [
    "temp1 = df_1[df_1[\"ProductBrand\"]=='Indian Terrain']"
   ]
  },
  {
   "cell_type": "code",
   "execution_count": 89,
   "id": "6aa90aa8",
   "metadata": {},
   "outputs": [
    {
     "data": {
      "text/html": [
       "<div>\n",
       "<style scoped>\n",
       "    .dataframe tbody tr th:only-of-type {\n",
       "        vertical-align: middle;\n",
       "    }\n",
       "\n",
       "    .dataframe tbody tr th {\n",
       "        vertical-align: top;\n",
       "    }\n",
       "\n",
       "    .dataframe thead th {\n",
       "        text-align: right;\n",
       "    }\n",
       "</style>\n",
       "<table border=\"1\" class=\"dataframe\">\n",
       "  <thead>\n",
       "    <tr style=\"text-align: right;\">\n",
       "      <th></th>\n",
       "      <th>Gender</th>\n",
       "      <th>Price (INR)</th>\n",
       "      <th>NumImages</th>\n",
       "      <th>ID</th>\n",
       "      <th>Description</th>\n",
       "      <th>PrimaryColor</th>\n",
       "      <th>Gender_V1</th>\n",
       "      <th>age_flag</th>\n",
       "      <th>v1</th>\n",
       "      <th>ProductID</th>\n",
       "      <th>ProductName</th>\n",
       "      <th>ProductBrand</th>\n",
       "    </tr>\n",
       "  </thead>\n",
       "  <tbody>\n",
       "    <tr>\n",
       "      <th>count</th>\n",
       "      <td>971</td>\n",
       "      <td>971.000000</td>\n",
       "      <td>971.000000</td>\n",
       "      <td>9.710000e+02</td>\n",
       "      <td>971</td>\n",
       "      <td>971</td>\n",
       "      <td>971</td>\n",
       "      <td>971</td>\n",
       "      <td>971.000000</td>\n",
       "      <td>9.710000e+02</td>\n",
       "      <td>971</td>\n",
       "      <td>971</td>\n",
       "    </tr>\n",
       "    <tr>\n",
       "      <th>unique</th>\n",
       "      <td>2</td>\n",
       "      <td>NaN</td>\n",
       "      <td>NaN</td>\n",
       "      <td>NaN</td>\n",
       "      <td>794</td>\n",
       "      <td>18</td>\n",
       "      <td>1</td>\n",
       "      <td>2</td>\n",
       "      <td>NaN</td>\n",
       "      <td>NaN</td>\n",
       "      <td>737</td>\n",
       "      <td>1</td>\n",
       "    </tr>\n",
       "    <tr>\n",
       "      <th>top</th>\n",
       "      <td>Men</td>\n",
       "      <td>NaN</td>\n",
       "      <td>NaN</td>\n",
       "      <td>NaN</td>\n",
       "      <td>White printed T-shirt, has a round neck, and l...</td>\n",
       "      <td>Blue</td>\n",
       "      <td>M</td>\n",
       "      <td>adults</td>\n",
       "      <td>NaN</td>\n",
       "      <td>NaN</td>\n",
       "      <td>Indian Terrain Men Blue &amp; White Slim Fit Check...</td>\n",
       "      <td>Indian Terrain</td>\n",
       "    </tr>\n",
       "    <tr>\n",
       "      <th>freq</th>\n",
       "      <td>665</td>\n",
       "      <td>NaN</td>\n",
       "      <td>NaN</td>\n",
       "      <td>NaN</td>\n",
       "      <td>8</td>\n",
       "      <td>368</td>\n",
       "      <td>971</td>\n",
       "      <td>665</td>\n",
       "      <td>NaN</td>\n",
       "      <td>NaN</td>\n",
       "      <td>10</td>\n",
       "      <td>971</td>\n",
       "    </tr>\n",
       "    <tr>\n",
       "      <th>mean</th>\n",
       "      <td>NaN</td>\n",
       "      <td>966.057673</td>\n",
       "      <td>5.000000</td>\n",
       "      <td>1.014762e+07</td>\n",
       "      <td>NaN</td>\n",
       "      <td>NaN</td>\n",
       "      <td>NaN</td>\n",
       "      <td>NaN</td>\n",
       "      <td>97.958805</td>\n",
       "      <td>1.014762e+07</td>\n",
       "      <td>NaN</td>\n",
       "      <td>NaN</td>\n",
       "    </tr>\n",
       "    <tr>\n",
       "      <th>std</th>\n",
       "      <td>NaN</td>\n",
       "      <td>460.676176</td>\n",
       "      <td>0.951396</td>\n",
       "      <td>9.667644e+03</td>\n",
       "      <td>NaN</td>\n",
       "      <td>NaN</td>\n",
       "      <td>NaN</td>\n",
       "      <td>NaN</td>\n",
       "      <td>30.424223</td>\n",
       "      <td>9.667644e+03</td>\n",
       "      <td>NaN</td>\n",
       "      <td>NaN</td>\n",
       "    </tr>\n",
       "    <tr>\n",
       "      <th>min</th>\n",
       "      <td>NaN</td>\n",
       "      <td>314.000000</td>\n",
       "      <td>3.000000</td>\n",
       "      <td>1.013445e+07</td>\n",
       "      <td>NaN</td>\n",
       "      <td>NaN</td>\n",
       "      <td>NaN</td>\n",
       "      <td>NaN</td>\n",
       "      <td>48.000000</td>\n",
       "      <td>1.013445e+07</td>\n",
       "      <td>NaN</td>\n",
       "      <td>NaN</td>\n",
       "    </tr>\n",
       "    <tr>\n",
       "      <th>25%</th>\n",
       "      <td>NaN</td>\n",
       "      <td>629.000000</td>\n",
       "      <td>5.000000</td>\n",
       "      <td>1.013861e+07</td>\n",
       "      <td>NaN</td>\n",
       "      <td>NaN</td>\n",
       "      <td>NaN</td>\n",
       "      <td>NaN</td>\n",
       "      <td>69.000000</td>\n",
       "      <td>1.013861e+07</td>\n",
       "      <td>NaN</td>\n",
       "      <td>NaN</td>\n",
       "    </tr>\n",
       "    <tr>\n",
       "      <th>50%</th>\n",
       "      <td>NaN</td>\n",
       "      <td>919.000000</td>\n",
       "      <td>5.000000</td>\n",
       "      <td>1.014886e+07</td>\n",
       "      <td>NaN</td>\n",
       "      <td>NaN</td>\n",
       "      <td>NaN</td>\n",
       "      <td>NaN</td>\n",
       "      <td>103.000000</td>\n",
       "      <td>1.014886e+07</td>\n",
       "      <td>NaN</td>\n",
       "      <td>NaN</td>\n",
       "    </tr>\n",
       "    <tr>\n",
       "      <th>75%</th>\n",
       "      <td>NaN</td>\n",
       "      <td>1079.000000</td>\n",
       "      <td>5.000000</td>\n",
       "      <td>1.015405e+07</td>\n",
       "      <td>NaN</td>\n",
       "      <td>NaN</td>\n",
       "      <td>NaN</td>\n",
       "      <td>NaN</td>\n",
       "      <td>121.000000</td>\n",
       "      <td>1.015405e+07</td>\n",
       "      <td>NaN</td>\n",
       "      <td>NaN</td>\n",
       "    </tr>\n",
       "    <tr>\n",
       "      <th>max</th>\n",
       "      <td>NaN</td>\n",
       "      <td>2699.000000</td>\n",
       "      <td>9.000000</td>\n",
       "      <td>1.027178e+07</td>\n",
       "      <td>NaN</td>\n",
       "      <td>NaN</td>\n",
       "      <td>NaN</td>\n",
       "      <td>NaN</td>\n",
       "      <td>239.000000</td>\n",
       "      <td>1.027178e+07</td>\n",
       "      <td>NaN</td>\n",
       "      <td>NaN</td>\n",
       "    </tr>\n",
       "  </tbody>\n",
       "</table>\n",
       "</div>"
      ],
      "text/plain": [
       "       Gender  Price (INR)   NumImages            ID  \\\n",
       "count     971   971.000000  971.000000  9.710000e+02   \n",
       "unique      2          NaN         NaN           NaN   \n",
       "top       Men          NaN         NaN           NaN   \n",
       "freq      665          NaN         NaN           NaN   \n",
       "mean      NaN   966.057673    5.000000  1.014762e+07   \n",
       "std       NaN   460.676176    0.951396  9.667644e+03   \n",
       "min       NaN   314.000000    3.000000  1.013445e+07   \n",
       "25%       NaN   629.000000    5.000000  1.013861e+07   \n",
       "50%       NaN   919.000000    5.000000  1.014886e+07   \n",
       "75%       NaN  1079.000000    5.000000  1.015405e+07   \n",
       "max       NaN  2699.000000    9.000000  1.027178e+07   \n",
       "\n",
       "                                              Description PrimaryColor  \\\n",
       "count                                                 971          971   \n",
       "unique                                                794           18   \n",
       "top     White printed T-shirt, has a round neck, and l...         Blue   \n",
       "freq                                                    8          368   \n",
       "mean                                                  NaN          NaN   \n",
       "std                                                   NaN          NaN   \n",
       "min                                                   NaN          NaN   \n",
       "25%                                                   NaN          NaN   \n",
       "50%                                                   NaN          NaN   \n",
       "75%                                                   NaN          NaN   \n",
       "max                                                   NaN          NaN   \n",
       "\n",
       "       Gender_V1 age_flag          v1     ProductID  \\\n",
       "count        971      971  971.000000  9.710000e+02   \n",
       "unique         1        2         NaN           NaN   \n",
       "top            M   adults         NaN           NaN   \n",
       "freq         971      665         NaN           NaN   \n",
       "mean         NaN      NaN   97.958805  1.014762e+07   \n",
       "std          NaN      NaN   30.424223  9.667644e+03   \n",
       "min          NaN      NaN   48.000000  1.013445e+07   \n",
       "25%          NaN      NaN   69.000000  1.013861e+07   \n",
       "50%          NaN      NaN  103.000000  1.014886e+07   \n",
       "75%          NaN      NaN  121.000000  1.015405e+07   \n",
       "max          NaN      NaN  239.000000  1.027178e+07   \n",
       "\n",
       "                                              ProductName    ProductBrand  \n",
       "count                                                 971             971  \n",
       "unique                                                737               1  \n",
       "top     Indian Terrain Men Blue & White Slim Fit Check...  Indian Terrain  \n",
       "freq                                                   10             971  \n",
       "mean                                                  NaN             NaN  \n",
       "std                                                   NaN             NaN  \n",
       "min                                                   NaN             NaN  \n",
       "25%                                                   NaN             NaN  \n",
       "50%                                                   NaN             NaN  \n",
       "75%                                                   NaN             NaN  \n",
       "max                                                   NaN             NaN  "
      ]
     },
     "execution_count": 89,
     "metadata": {},
     "output_type": "execute_result"
    }
   ],
   "source": [
    "temp1.describe(include=\"all\")"
   ]
  },
  {
   "cell_type": "code",
   "execution_count": null,
   "id": "de079ab7",
   "metadata": {},
   "outputs": [],
   "source": [
    "#so we found Indian Terrain is most selling brand in Mens wear in  both price range  "
   ]
  },
  {
   "cell_type": "code",
   "execution_count": 90,
   "id": "2f4dc38c",
   "metadata": {},
   "outputs": [
    {
     "data": {
      "text/plain": [
       "AURELIA         307\n",
       "W               261\n",
       "Lavie           121\n",
       "HERE&NOW        118\n",
       "Roadster        108\n",
       "               ... \n",
       "Devis             1\n",
       "Slumber Jill      1\n",
       "Foolzy            1\n",
       "Keds              1\n",
       "pinwheel          1\n",
       "Name: ProductBrand, Length: 425, dtype: int64"
      ]
     },
     "execution_count": 90,
     "metadata": {},
     "output_type": "execute_result"
    }
   ],
   "source": [
    "df_1[df_1['Gender_V1']=='F'].ProductBrand.value_counts()"
   ]
  },
  {
   "cell_type": "code",
   "execution_count": null,
   "id": "5d0fdf99",
   "metadata": {},
   "outputs": [],
   "source": []
  }
 ],
 "metadata": {
  "kernelspec": {
   "display_name": "Python 3 (ipykernel)",
   "language": "python",
   "name": "python3"
  },
  "language_info": {
   "codemirror_mode": {
    "name": "ipython",
    "version": 3
   },
   "file_extension": ".py",
   "mimetype": "text/x-python",
   "name": "python",
   "nbconvert_exporter": "python",
   "pygments_lexer": "ipython3",
   "version": "3.9.12"
  }
 },
 "nbformat": 4,
 "nbformat_minor": 5
}
